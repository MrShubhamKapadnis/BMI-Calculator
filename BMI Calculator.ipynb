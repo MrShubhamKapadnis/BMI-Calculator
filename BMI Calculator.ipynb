{
 "cells": [
  {
   "cell_type": "code",
   "execution_count": 1,
   "id": "807f9418",
   "metadata": {},
   "outputs": [
    {
     "name": "stdout",
     "output_type": "stream",
     "text": [
      "Enter your height in centimeters: 180\n"
     ]
    }
   ],
   "source": [
    "Height=float(input(\"Enter your height in centimeters: \"))\n"
   ]
  },
  {
   "cell_type": "code",
   "execution_count": 2,
   "id": "8af59cee",
   "metadata": {},
   "outputs": [
    {
     "name": "stdout",
     "output_type": "stream",
     "text": [
      "Enter your Weight in Kg: 60\n"
     ]
    }
   ],
   "source": [
    "Weight=float(input(\"Enter your Weight in Kg: \"))"
   ]
  },
  {
   "cell_type": "code",
   "execution_count": 3,
   "id": "6450fe99",
   "metadata": {},
   "outputs": [],
   "source": [
    "Height = Height/100\n",
    "BMI=Weight/(Height*Height)"
   ]
  },
  {
   "cell_type": "code",
   "execution_count": 4,
   "id": "9d175922",
   "metadata": {},
   "outputs": [
    {
     "name": "stdout",
     "output_type": "stream",
     "text": [
      "your Body Mass Index is:  18.51851851851852\n",
      "you are Healthy\n"
     ]
    }
   ],
   "source": [
    "print(\"your Body Mass Index is: \",BMI)\n",
    "if(BMI>0):\n",
    "\tif(BMI<=16):\n",
    "\t\tprint(\"you are severely underweight\")\n",
    "\telif(BMI<=18.5):\n",
    "\t\tprint(\"you are underweight\")\n",
    "\telif(BMI<=25):\n",
    "\t\tprint(\"you are Healthy\")\n",
    "\telif(BMI<=30):\n",
    "\t\tprint(\"you are overweight\")\n",
    "\telse: print(\"you are severely overweight\")\n",
    "else:(\"enter valid details\")"
   ]
  },
  {
   "cell_type": "code",
   "execution_count": null,
   "id": "6867402f",
   "metadata": {},
   "outputs": [],
   "source": []
  }
 ],
 "metadata": {
  "kernelspec": {
   "display_name": "Python 3",
   "language": "python",
   "name": "python3"
  },
  "language_info": {
   "codemirror_mode": {
    "name": "ipython",
    "version": 3
   },
   "file_extension": ".py",
   "mimetype": "text/x-python",
   "name": "python",
   "nbconvert_exporter": "python",
   "pygments_lexer": "ipython3",
   "version": "3.8.8"
  }
 },
 "nbformat": 4,
 "nbformat_minor": 5
}
